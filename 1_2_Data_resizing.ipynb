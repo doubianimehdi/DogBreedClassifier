{
 "cells": [
  {
   "cell_type": "code",
   "execution_count": 13,
   "metadata": {},
   "outputs": [],
   "source": [
    "import os\n",
    "import cv2\n",
    "\n",
    "base_dir = 'C:/OpenClassRooms/projet 6/dogs_224/'\n",
    "os.mkdir(base_dir)\n",
    "\n",
    "train_dir = os.path.join(base_dir, 'train')\n",
    "os.mkdir(train_dir)\n",
    "validation_dir = os.path.join(base_dir, 'validation')\n",
    "os.mkdir(validation_dir)\n",
    "test_dir = os.path.join(base_dir, 'test')\n",
    "os.mkdir(test_dir)"
   ]
  },
  {
   "cell_type": "code",
   "execution_count": 14,
   "metadata": {},
   "outputs": [
    {
     "name": "stdout",
     "output_type": "stream",
     "text": [
      "Loaded 1/120: 152 images for breed: Chihuahua\n",
      "Loaded 2/120: 185 images for breed: Japanese_spaniel\n",
      "Loaded 3/120: 252 images for breed: Maltese_dog\n",
      "Loaded 4/120: 149 images for breed: Pekinese\n",
      "Loaded 5/120: 214 images for breed: Shih\n",
      "Loaded 6/120: 188 images for breed: Blenheim_spaniel\n",
      "Loaded 7/120: 196 images for breed: papillon\n",
      "Loaded 8/120: 172 images for breed: toy_terrier\n",
      "Loaded 9/120: 172 images for breed: Rhodesian_ridgeback\n",
      "Loaded 10/120: 239 images for breed: Afghan_hound\n",
      "Loaded 11/120: 175 images for breed: basset\n",
      "Loaded 12/120: 195 images for breed: beagle\n",
      "Loaded 13/120: 187 images for breed: bloodhound\n",
      "Loaded 14/120: 171 images for breed: bluetick\n",
      "Loaded 15/120: 159 images for breed: black\n",
      "Loaded 16/120: 153 images for breed: Walker_hound\n",
      "Loaded 17/120: 157 images for breed: English_foxhound\n",
      "Loaded 18/120: 148 images for breed: redbone\n",
      "Loaded 19/120: 151 images for breed: borzoi\n",
      "Loaded 20/120: 218 images for breed: Irish_wolfhound\n",
      "Loaded 21/120: 182 images for breed: Italian_greyhound\n",
      "Loaded 22/120: 187 images for breed: whippet\n",
      "Loaded 23/120: 188 images for breed: Ibizan_hound\n",
      "Loaded 24/120: 196 images for breed: Norwegian_elkhound\n",
      "Loaded 25/120: 151 images for breed: otterhound\n",
      "Loaded 26/120: 200 images for breed: Saluki\n",
      "Loaded 27/120: 232 images for breed: Scottish_deerhound\n",
      "Loaded 28/120: 160 images for breed: Weimaraner\n",
      "Loaded 29/120: 155 images for breed: Staffordshire_bullterrier\n",
      "Loaded 30/120: 164 images for breed: American_Staffordshire_terrier\n",
      "Loaded 31/120: 182 images for breed: Bedlington_terrier\n",
      "Loaded 32/120: 172 images for breed: Border_terrier\n",
      "Loaded 33/120: 179 images for breed: Kerry_blue_terrier\n",
      "Loaded 34/120: 169 images for breed: Irish_terrier\n",
      "Loaded 35/120: 172 images for breed: Norfolk_terrier\n",
      "Loaded 36/120: 185 images for breed: Norwich_terrier\n",
      "Loaded 37/120: 164 images for breed: Yorkshire_terrier\n",
      "Loaded 38/120: 157 images for breed: wire\n",
      "Loaded 39/120: 197 images for breed: Lakeland_terrier\n",
      "Loaded 40/120: 202 images for breed: Sealyham_terrier\n",
      "Loaded 41/120: 202 images for breed: Airedale\n",
      "Loaded 42/120: 197 images for breed: cairn\n",
      "Loaded 43/120: 196 images for breed: Australian_terrier\n",
      "Loaded 44/120: 180 images for breed: Dandie_Dinmont\n",
      "Loaded 45/120: 182 images for breed: Boston_bull\n",
      "Loaded 46/120: 154 images for breed: miniature_schnauzer\n",
      "Loaded 47/120: 157 images for breed: giant_schnauzer\n",
      "Loaded 48/120: 155 images for breed: standard_schnauzer\n",
      "Loaded 49/120: 158 images for breed: Scotch_terrier\n",
      "Loaded 50/120: 206 images for breed: Tibetan_terrier\n",
      "Loaded 51/120: 183 images for breed: silky_terrier\n",
      "Loaded 52/120: 156 images for breed: soft\n",
      "Loaded 53/120: 169 images for breed: West_Highland_white_terrier\n",
      "Loaded 54/120: 186 images for breed: Lhasa\n",
      "Loaded 55/120: 152 images for breed: flat\n",
      "Loaded 56/120: 151 images for breed: curly\n",
      "Loaded 57/120: 150 images for breed: golden_retriever\n",
      "Loaded 58/120: 171 images for breed: Labrador_retriever\n",
      "Loaded 59/120: 167 images for breed: Chesapeake_Bay_retriever\n",
      "Loaded 60/120: 152 images for breed: German_short\n",
      "Loaded 61/120: 154 images for breed: vizsla\n",
      "Loaded 62/120: 161 images for breed: English_setter\n",
      "Loaded 63/120: 155 images for breed: Irish_setter\n",
      "Loaded 64/120: 153 images for breed: Gordon_setter\n",
      "Loaded 65/120: 152 images for breed: Brittany_spaniel\n",
      "Loaded 66/120: 150 images for breed: clumber\n",
      "Loaded 67/120: 159 images for breed: English_springer\n",
      "Loaded 68/120: 150 images for breed: Welsh_springer_spaniel\n",
      "Loaded 69/120: 159 images for breed: cocker_spaniel\n",
      "Loaded 70/120: 151 images for breed: Sussex_spaniel\n",
      "Loaded 71/120: 150 images for breed: Irish_water_spaniel\n",
      "Loaded 72/120: 150 images for breed: kuvasz\n",
      "Loaded 73/120: 154 images for breed: schipperke\n",
      "Loaded 74/120: 150 images for breed: groenendael\n",
      "Loaded 75/120: 150 images for breed: malinois\n",
      "Loaded 76/120: 152 images for breed: briard\n",
      "Loaded 77/120: 153 images for breed: kelpie\n",
      "Loaded 78/120: 154 images for breed: komondor\n",
      "Loaded 79/120: 169 images for breed: Old_English_sheepdog\n",
      "Loaded 80/120: 157 images for breed: Shetland_sheepdog\n",
      "Loaded 81/120: 153 images for breed: collie\n",
      "Loaded 82/120: 150 images for breed: Border_collie\n",
      "Loaded 83/120: 150 images for breed: Bouvier_des_Flandres\n",
      "Loaded 84/120: 152 images for breed: Rottweiler\n",
      "Loaded 85/120: 152 images for breed: German_shepherd\n",
      "Loaded 86/120: 150 images for breed: Doberman\n",
      "Loaded 87/120: 184 images for breed: miniature_pinscher\n",
      "Loaded 88/120: 168 images for breed: Greater_Swiss_Mountain_dog\n",
      "Loaded 89/120: 218 images for breed: Bernese_mountain_dog\n",
      "Loaded 90/120: 151 images for breed: Appenzeller\n",
      "Loaded 91/120: 202 images for breed: EntleBucher\n",
      "Loaded 92/120: 151 images for breed: boxer\n",
      "Loaded 93/120: 156 images for breed: bull_mastiff\n",
      "Loaded 94/120: 152 images for breed: Tibetan_mastiff\n",
      "Loaded 95/120: 159 images for breed: French_bulldog\n",
      "Loaded 96/120: 156 images for breed: Great_Dane\n",
      "Loaded 97/120: 170 images for breed: Saint_Bernard\n",
      "Loaded 98/120: 150 images for breed: Eskimo_dog\n",
      "Loaded 99/120: 178 images for breed: malamute\n",
      "Loaded 100/120: 192 images for breed: Siberian_husky\n",
      "Loaded 101/120: 150 images for breed: affenpinscher\n",
      "Loaded 102/120: 209 images for breed: basenji\n",
      "Loaded 103/120: 200 images for breed: pug\n",
      "Loaded 104/120: 210 images for breed: Leonberg\n",
      "Loaded 105/120: 195 images for breed: Newfoundland\n",
      "Loaded 106/120: 213 images for breed: Great_Pyrenees\n",
      "Loaded 107/120: 218 images for breed: Samoyed\n",
      "Loaded 108/120: 219 images for breed: Pomeranian\n",
      "Loaded 109/120: 196 images for breed: chow\n",
      "Loaded 110/120: 158 images for breed: keeshond\n",
      "Loaded 111/120: 153 images for breed: Brabancon_griffon\n",
      "Loaded 112/120: 181 images for breed: Pembroke\n",
      "Loaded 113/120: 155 images for breed: Cardigan\n",
      "Loaded 114/120: 151 images for breed: toy_poodle\n",
      "Loaded 115/120: 155 images for breed: miniature_poodle\n",
      "Loaded 116/120: 159 images for breed: standard_poodle\n",
      "Loaded 117/120: 155 images for breed: Mexican_hairless\n",
      "Loaded 118/120: 156 images for breed: dingo\n",
      "Loaded 119/120: 150 images for breed: dhole\n",
      "Loaded 120/120: 169 images for breed: African_hunting_dog\n"
     ]
    }
   ],
   "source": [
    "for idx, breed in enumerate(os.listdir('images/')):\n",
    "    n_images = len(os.listdir(f'images/{breed}'))\n",
    "    breed_name = breed.split('-')[1]\n",
    "    breed_train = os.path.join(train_dir, breed_name)\n",
    "    os.mkdir(breed_train)\n",
    "    breed_validation = os.path.join(validation_dir, breed_name)\n",
    "    os.mkdir(breed_validation)\n",
    "    breed_test = os.path.join(test_dir, breed_name)\n",
    "    os.mkdir(breed_test)\n",
    "    for image in os.listdir(f'images/{breed}')[:round(0.7 * n_images)]:\n",
    "        img_orig = cv2.imread(f'images/{breed}/{image}')\n",
    "        img = cv2.resize(img_orig, (224, 224))\n",
    "        cv2.imwrite(os.path.join(breed_train, image), img)\n",
    "    for image in os.listdir(f'images/{breed}')[(round(0.7 * n_images)):round(0.85 * n_images)]:\n",
    "        img_orig = cv2.imread(f'images/{breed}/{image}')\n",
    "        img = cv2.resize(img_orig, (224, 224))\n",
    "        cv2.imwrite(os.path.join(breed_validation, image), img)\n",
    "    for image in os.listdir(f'images/{breed}')[(round(0.85 * n_images)):]:\n",
    "        img_orig = cv2.imread(f'images/{breed}/{image}')\n",
    "        img = cv2.resize(img_orig, (224, 224))\n",
    "        cv2.imwrite(os.path.join(breed_test, image), img)\n",
    "    print(\n",
    "            f\"Loaded {idx + 1}/120: {len(os.listdir('images/' + breed))} \"\n",
    "            f\"images for breed: {breed.split('-')[1]}\"\n",
    "        )"
   ]
  },
  {
   "cell_type": "code",
   "execution_count": 15,
   "metadata": {},
   "outputs": [
    {
     "data": {
      "text/plain": [
       "412"
      ]
     },
     "execution_count": 15,
     "metadata": {},
     "output_type": "execute_result"
    }
   ],
   "source": [
    "round(0.7 * 589)"
   ]
  },
  {
   "cell_type": "code",
   "execution_count": 16,
   "metadata": {},
   "outputs": [
    {
     "data": {
      "text/plain": [
       "501"
      ]
     },
     "execution_count": 16,
     "metadata": {},
     "output_type": "execute_result"
    }
   ],
   "source": [
    "round(0.85 * 589)"
   ]
  },
  {
   "cell_type": "code",
   "execution_count": null,
   "metadata": {},
   "outputs": [],
   "source": []
  }
 ],
 "metadata": {
  "kernelspec": {
   "display_name": "virtEnv",
   "language": "python",
   "name": "virtenv"
  },
  "language_info": {
   "codemirror_mode": {
    "name": "ipython",
    "version": 3
   },
   "file_extension": ".py",
   "mimetype": "text/x-python",
   "name": "python",
   "nbconvert_exporter": "python",
   "pygments_lexer": "ipython3",
   "version": "3.7.7"
  }
 },
 "nbformat": 4,
 "nbformat_minor": 4
}
