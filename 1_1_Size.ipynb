{
 "cells": [
  {
   "cell_type": "markdown",
   "metadata": {},
   "source": [
    "# Objective: analyze dataset to determine a standard size"
   ]
  },
  {
   "cell_type": "code",
   "execution_count": 1,
   "metadata": {},
   "outputs": [],
   "source": [
    "import os\n",
    "import cv2\n",
    "import pandas as pd\n",
    "import matplotlib.pyplot as plt\n",
    "import glob\n",
    "\n",
    "data_path = 'C:/OpenClassRooms/projet 6/Images/'"
   ]
  },
  {
   "cell_type": "code",
   "execution_count": 2,
   "metadata": {},
   "outputs": [],
   "source": [
    "df = []\n",
    "for breed in os.listdir(data_path):\n",
    "    for dog in os.listdir(data_path + breed):\n",
    "        img = cv2.imread(data_path + breed + '/' + dog)\n",
    "        df.append((img.shape[0], img.shape[1], img.shape[0] / img.shape[1]))\n",
    "df = pd.DataFrame(df, columns=['Height', 'Width', 'Ratio'])"
   ]
  },
  {
   "cell_type": "code",
   "execution_count": 3,
   "metadata": {},
   "outputs": [
    {
     "name": "stdout",
     "output_type": "stream",
     "text": [
      "Dataset contains 120 breeds and a total of 20580 images.\n"
     ]
    }
   ],
   "source": [
    "n_breeds = len(os.listdir(data_path))\n",
    "n_images = df.shape[0]\n",
    "print(f'Dataset contains {n_breeds} breeds and a total of {n_images} images.')"
   ]
  },
  {
   "cell_type": "code",
   "execution_count": 4,
   "metadata": {},
   "outputs": [
    {
     "data": {
      "text/html": [
       "<div>\n",
       "<style scoped>\n",
       "    .dataframe tbody tr th:only-of-type {\n",
       "        vertical-align: middle;\n",
       "    }\n",
       "\n",
       "    .dataframe tbody tr th {\n",
       "        vertical-align: top;\n",
       "    }\n",
       "\n",
       "    .dataframe thead th {\n",
       "        text-align: right;\n",
       "    }\n",
       "</style>\n",
       "<table border=\"1\" class=\"dataframe\">\n",
       "  <thead>\n",
       "    <tr style=\"text-align: right;\">\n",
       "      <th></th>\n",
       "      <th>count</th>\n",
       "      <th>mean</th>\n",
       "      <th>std</th>\n",
       "      <th>min</th>\n",
       "      <th>25%</th>\n",
       "      <th>50%</th>\n",
       "      <th>75%</th>\n",
       "      <th>max</th>\n",
       "    </tr>\n",
       "  </thead>\n",
       "  <tbody>\n",
       "    <tr>\n",
       "      <th>Height</th>\n",
       "      <td>20580.0</td>\n",
       "      <td>385.861224</td>\n",
       "      <td>124.863446</td>\n",
       "      <td>100.00000</td>\n",
       "      <td>333.000000</td>\n",
       "      <td>375.00</td>\n",
       "      <td>453.000000</td>\n",
       "      <td>2562.000000</td>\n",
       "    </tr>\n",
       "    <tr>\n",
       "      <th>Width</th>\n",
       "      <td>20580.0</td>\n",
       "      <td>442.531876</td>\n",
       "      <td>142.792308</td>\n",
       "      <td>97.00000</td>\n",
       "      <td>361.000000</td>\n",
       "      <td>500.00</td>\n",
       "      <td>500.000000</td>\n",
       "      <td>3264.000000</td>\n",
       "    </tr>\n",
       "    <tr>\n",
       "      <th>Ratio</th>\n",
       "      <td>20580.0</td>\n",
       "      <td>0.912368</td>\n",
       "      <td>0.287046</td>\n",
       "      <td>0.27521</td>\n",
       "      <td>0.747826</td>\n",
       "      <td>0.75</td>\n",
       "      <td>1.079914</td>\n",
       "      <td>2.540816</td>\n",
       "    </tr>\n",
       "  </tbody>\n",
       "</table>\n",
       "</div>"
      ],
      "text/plain": [
       "          count        mean         std        min         25%     50%  \\\n",
       "Height  20580.0  385.861224  124.863446  100.00000  333.000000  375.00   \n",
       "Width   20580.0  442.531876  142.792308   97.00000  361.000000  500.00   \n",
       "Ratio   20580.0    0.912368    0.287046    0.27521    0.747826    0.75   \n",
       "\n",
       "               75%          max  \n",
       "Height  453.000000  2562.000000  \n",
       "Width   500.000000  3264.000000  \n",
       "Ratio     1.079914     2.540816  "
      ]
     },
     "execution_count": 4,
     "metadata": {},
     "output_type": "execute_result"
    }
   ],
   "source": [
    "df.describe().T"
   ]
  },
  {
   "cell_type": "code",
   "execution_count": 5,
   "metadata": {},
   "outputs": [
    {
     "data": {
      "image/png": "[encoded data removed]",
      "text/plain": [
       "<Figure size 1080x1080 with 3 Axes>"
      ]
     },
     "metadata": {
      "needs_background": "light"
     },
     "output_type": "display_data"
    }
   ],
   "source": [
    "f = plt.figure(figsize=(15, 15)) \n",
    "\n",
    "plt.subplot(311)\n",
    "plt.hist(df['Height'], bins=100, range=(0, 1000))\n",
    "plt.subplot(312)\n",
    "plt.hist(df['Width'], bins=100, range=(0, 1000))\n",
    "plt.subplot(313)\n",
    "plt.hist(df['Ratio'], bins=100, range=(0, 2))\n",
    "\n",
    "plt.show()"
   ]
  },
  {
   "cell_type": "markdown",
   "metadata": {},
   "source": [
    "# Most common dimension seems to be 500x375 (ratio 0.75)"
   ]
  },
  {
   "cell_type": "code",
   "execution_count": 25,
   "metadata": {},
   "outputs": [
    {
     "data": {
      "text/html": [
       "<div>\n",
       "<style scoped>\n",
       "    .dataframe tbody tr th:only-of-type {\n",
       "        vertical-align: middle;\n",
       "    }\n",
       "\n",
       "    .dataframe tbody tr th {\n",
       "        vertical-align: top;\n",
       "    }\n",
       "\n",
       "    .dataframe thead th {\n",
       "        text-align: right;\n",
       "    }\n",
       "</style>\n",
       "<table border=\"1\" class=\"dataframe\">\n",
       "  <thead>\n",
       "    <tr style=\"text-align: right;\">\n",
       "      <th></th>\n",
       "      <th>path</th>\n",
       "    </tr>\n",
       "  </thead>\n",
       "  <tbody>\n",
       "    <tr>\n",
       "      <th>0</th>\n",
       "      <td>./Images\\n02085620-Chihuahua\\n02085620_10074.jpg</td>\n",
       "    </tr>\n",
       "    <tr>\n",
       "      <th>1</th>\n",
       "      <td>./Images\\n02085620-Chihuahua\\n02085620_10131.jpg</td>\n",
       "    </tr>\n",
       "    <tr>\n",
       "      <th>2</th>\n",
       "      <td>./Images\\n02085620-Chihuahua\\n02085620_10621.jpg</td>\n",
       "    </tr>\n",
       "    <tr>\n",
       "      <th>3</th>\n",
       "      <td>./Images\\n02085620-Chihuahua\\n02085620_1073.jpg</td>\n",
       "    </tr>\n",
       "    <tr>\n",
       "      <th>4</th>\n",
       "      <td>./Images\\n02085620-Chihuahua\\n02085620_10976.jpg</td>\n",
       "    </tr>\n",
       "  </tbody>\n",
       "</table>\n",
       "</div>"
      ],
      "text/plain": [
       "                                               path\n",
       "0  ./Images\\n02085620-Chihuahua\\n02085620_10074.jpg\n",
       "1  ./Images\\n02085620-Chihuahua\\n02085620_10131.jpg\n",
       "2  ./Images\\n02085620-Chihuahua\\n02085620_10621.jpg\n",
       "3   ./Images\\n02085620-Chihuahua\\n02085620_1073.jpg\n",
       "4  ./Images\\n02085620-Chihuahua\\n02085620_10976.jpg"
      ]
     },
     "execution_count": 25,
     "metadata": {},
     "output_type": "execute_result"
    }
   ],
   "source": [
    "join_table = pd.DataFrame(sorted(glob.glob('./Images/*/*')), columns = ['path'])\n",
    "join_table.head()"
   ]
  },
  {
   "cell_type": "code",
   "execution_count": 26,
   "metadata": {},
   "outputs": [],
   "source": [
    "join_table['file_name'] = join_table['path'].apply(lambda x: x.split('/')[-1].replace('.jpg',''))"
   ]
  },
  {
   "cell_type": "code",
   "execution_count": 27,
   "metadata": {},
   "outputs": [
    {
     "data": {
      "text/html": [
       "<div>\n",
       "<style scoped>\n",
       "    .dataframe tbody tr th:only-of-type {\n",
       "        vertical-align: middle;\n",
       "    }\n",
       "\n",
       "    .dataframe tbody tr th {\n",
       "        vertical-align: top;\n",
       "    }\n",
       "\n",
       "    .dataframe thead th {\n",
       "        text-align: right;\n",
       "    }\n",
       "</style>\n",
       "<table border=\"1\" class=\"dataframe\">\n",
       "  <thead>\n",
       "    <tr style=\"text-align: right;\">\n",
       "      <th></th>\n",
       "      <th>path</th>\n",
       "      <th>file_name</th>\n",
       "    </tr>\n",
       "  </thead>\n",
       "  <tbody>\n",
       "    <tr>\n",
       "      <th>0</th>\n",
       "      <td>./Images\\n02085620-Chihuahua\\n02085620_10074.jpg</td>\n",
       "      <td>Images\\n02085620-Chihuahua\\n02085620_10074</td>\n",
       "    </tr>\n",
       "    <tr>\n",
       "      <th>1</th>\n",
       "      <td>./Images\\n02085620-Chihuahua\\n02085620_10131.jpg</td>\n",
       "      <td>Images\\n02085620-Chihuahua\\n02085620_10131</td>\n",
       "    </tr>\n",
       "    <tr>\n",
       "      <th>2</th>\n",
       "      <td>./Images\\n02085620-Chihuahua\\n02085620_10621.jpg</td>\n",
       "      <td>Images\\n02085620-Chihuahua\\n02085620_10621</td>\n",
       "    </tr>\n",
       "    <tr>\n",
       "      <th>3</th>\n",
       "      <td>./Images\\n02085620-Chihuahua\\n02085620_1073.jpg</td>\n",
       "      <td>Images\\n02085620-Chihuahua\\n02085620_1073</td>\n",
       "    </tr>\n",
       "    <tr>\n",
       "      <th>4</th>\n",
       "      <td>./Images\\n02085620-Chihuahua\\n02085620_10976.jpg</td>\n",
       "      <td>Images\\n02085620-Chihuahua\\n02085620_10976</td>\n",
       "    </tr>\n",
       "    <tr>\n",
       "      <th>...</th>\n",
       "      <td>...</td>\n",
       "      <td>...</td>\n",
       "    </tr>\n",
       "    <tr>\n",
       "      <th>20575</th>\n",
       "      <td>./Images\\n02116738-African_hunting_dog\\n021167...</td>\n",
       "      <td>Images\\n02116738-African_hunting_dog\\n02116738...</td>\n",
       "    </tr>\n",
       "    <tr>\n",
       "      <th>20576</th>\n",
       "      <td>./Images\\n02116738-African_hunting_dog\\n021167...</td>\n",
       "      <td>Images\\n02116738-African_hunting_dog\\n02116738...</td>\n",
       "    </tr>\n",
       "    <tr>\n",
       "      <th>20577</th>\n",
       "      <td>./Images\\n02116738-African_hunting_dog\\n021167...</td>\n",
       "      <td>Images\\n02116738-African_hunting_dog\\n02116738...</td>\n",
       "    </tr>\n",
       "    <tr>\n",
       "      <th>20578</th>\n",
       "      <td>./Images\\n02116738-African_hunting_dog\\n021167...</td>\n",
       "      <td>Images\\n02116738-African_hunting_dog\\n02116738...</td>\n",
       "    </tr>\n",
       "    <tr>\n",
       "      <th>20579</th>\n",
       "      <td>./Images\\n02116738-African_hunting_dog\\n021167...</td>\n",
       "      <td>Images\\n02116738-African_hunting_dog\\n02116738...</td>\n",
       "    </tr>\n",
       "  </tbody>\n",
       "</table>\n",
       "<p>20580 rows × 2 columns</p>\n",
       "</div>"
      ],
      "text/plain": [
       "                                                    path  \\\n",
       "0       ./Images\\n02085620-Chihuahua\\n02085620_10074.jpg   \n",
       "1       ./Images\\n02085620-Chihuahua\\n02085620_10131.jpg   \n",
       "2       ./Images\\n02085620-Chihuahua\\n02085620_10621.jpg   \n",
       "3        ./Images\\n02085620-Chihuahua\\n02085620_1073.jpg   \n",
       "4       ./Images\\n02085620-Chihuahua\\n02085620_10976.jpg   \n",
       "...                                                  ...   \n",
       "20575  ./Images\\n02116738-African_hunting_dog\\n021167...   \n",
       "20576  ./Images\\n02116738-African_hunting_dog\\n021167...   \n",
       "20577  ./Images\\n02116738-African_hunting_dog\\n021167...   \n",
       "20578  ./Images\\n02116738-African_hunting_dog\\n021167...   \n",
       "20579  ./Images\\n02116738-African_hunting_dog\\n021167...   \n",
       "\n",
       "                                               file_name  \n",
       "0             Images\\n02085620-Chihuahua\\n02085620_10074  \n",
       "1             Images\\n02085620-Chihuahua\\n02085620_10131  \n",
       "2             Images\\n02085620-Chihuahua\\n02085620_10621  \n",
       "3              Images\\n02085620-Chihuahua\\n02085620_1073  \n",
       "4             Images\\n02085620-Chihuahua\\n02085620_10976  \n",
       "...                                                  ...  \n",
       "20575  Images\\n02116738-African_hunting_dog\\n02116738...  \n",
       "20576  Images\\n02116738-African_hunting_dog\\n02116738...  \n",
       "20577  Images\\n02116738-African_hunting_dog\\n02116738...  \n",
       "20578  Images\\n02116738-African_hunting_dog\\n02116738...  \n",
       "20579  Images\\n02116738-African_hunting_dog\\n02116738...  \n",
       "\n",
       "[20580 rows x 2 columns]"
      ]
     },
     "execution_count": 27,
     "metadata": {},
     "output_type": "execute_result"
    }
   ],
   "source": [
    "join_table"
   ]
  },
  {
   "cell_type": "code",
   "execution_count": 29,
   "metadata": {},
   "outputs": [
    {
     "data": {
      "text/plain": [
       "Maltese_dog            252\n",
       "Afghan_hound           239\n",
       "Scottish_deerhound     232\n",
       "Pomeranian             219\n",
       "Samoyed                218\n",
       "                      ... \n",
       "groenendael            150\n",
       "Irish_water_spaniel    150\n",
       "kuvasz                 150\n",
       "Pekinese               149\n",
       "redbone                148\n",
       "Name: labels, Length: 120, dtype: int64"
      ]
     },
     "execution_count": 29,
     "metadata": {},
     "output_type": "execute_result"
    }
   ],
   "source": [
    "join_table['labels'] = join_table['path'].apply(lambda x: x.split('\\\\')[-2].split('-',1)[1])\n",
    "join_table.labels.value_counts()"
   ]
  },
  {
   "cell_type": "code",
   "execution_count": 30,
   "metadata": {},
   "outputs": [
    {
     "data": {
      "image/png": "[encoded data removed]",
      "text/plain": [
       "<Figure size 720x360 with 1 Axes>"
      ]
     },
     "metadata": {
      "needs_background": "light"
     },
     "output_type": "display_data"
    }
   ],
   "source": [
    "a = (join_table['labels'].value_counts())\n",
    "fig = plt.figure(figsize = (10,5))\n",
    "plt.bar(x = a.index, height = a, color = 'darkseagreen')\n",
    "plt.xticks('')\n",
    "plt.title('Number of pictures per breed', fontsize = 15)\n",
    "plt.yticks(fontsize = 15)\n",
    "fig.savefig(\"count.png\", transparent = True)"
   ]
  },
  {
   "cell_type": "code",
   "execution_count": 31,
   "metadata": {},
   "outputs": [
    {
     "data": {
      "image/png": "[encoded data removed]",
      "text/plain": [
       "<Figure size 936x360 with 1 Axes>"
      ]
     },
     "metadata": {
      "needs_background": "light"
     },
     "output_type": "display_data"
    }
   ],
   "source": [
    "fig = plt.figure(figsize = (13,5))\n",
    "plt.bar(x = a[(a > 230) | (a < 150)].index, height = a[(a > 230) | (a < 150)], color = 'darksalmon')\n",
    "plt.xticks(fontsize = 15)\n",
    "plt.title('Most and least represented breeds', fontsize = 15)\n",
    "plt.yticks(fontsize = 15)\n",
    "fig.savefig(\"most_rep.png\", transparent = True)"
   ]
  },
  {
   "cell_type": "code",
   "execution_count": 32,
   "metadata": {},
   "outputs": [
    {
     "data": {
      "text/html": [
       "<div>\n",
       "<style scoped>\n",
       "    .dataframe tbody tr th:only-of-type {\n",
       "        vertical-align: middle;\n",
       "    }\n",
       "\n",
       "    .dataframe tbody tr th {\n",
       "        vertical-align: top;\n",
       "    }\n",
       "\n",
       "    .dataframe thead th {\n",
       "        text-align: right;\n",
       "    }\n",
       "</style>\n",
       "<table border=\"1\" class=\"dataframe\">\n",
       "  <thead>\n",
       "    <tr style=\"text-align: right;\">\n",
       "      <th></th>\n",
       "      <th>path</th>\n",
       "      <th>file_name</th>\n",
       "      <th>labels</th>\n",
       "    </tr>\n",
       "  </thead>\n",
       "  <tbody>\n",
       "    <tr>\n",
       "      <th>0</th>\n",
       "      <td>./Images\\n02085620-Chihuahua\\n02085620_10074.jpg</td>\n",
       "      <td>Images\\n02085620-Chihuahua\\n02085620_10074</td>\n",
       "      <td>Chihuahua</td>\n",
       "    </tr>\n",
       "    <tr>\n",
       "      <th>1</th>\n",
       "      <td>./Images\\n02085620-Chihuahua\\n02085620_10131.jpg</td>\n",
       "      <td>Images\\n02085620-Chihuahua\\n02085620_10131</td>\n",
       "      <td>Chihuahua</td>\n",
       "    </tr>\n",
       "    <tr>\n",
       "      <th>2</th>\n",
       "      <td>./Images\\n02085620-Chihuahua\\n02085620_10621.jpg</td>\n",
       "      <td>Images\\n02085620-Chihuahua\\n02085620_10621</td>\n",
       "      <td>Chihuahua</td>\n",
       "    </tr>\n",
       "    <tr>\n",
       "      <th>3</th>\n",
       "      <td>./Images\\n02085620-Chihuahua\\n02085620_1073.jpg</td>\n",
       "      <td>Images\\n02085620-Chihuahua\\n02085620_1073</td>\n",
       "      <td>Chihuahua</td>\n",
       "    </tr>\n",
       "    <tr>\n",
       "      <th>4</th>\n",
       "      <td>./Images\\n02085620-Chihuahua\\n02085620_10976.jpg</td>\n",
       "      <td>Images\\n02085620-Chihuahua\\n02085620_10976</td>\n",
       "      <td>Chihuahua</td>\n",
       "    </tr>\n",
       "  </tbody>\n",
       "</table>\n",
       "</div>"
      ],
      "text/plain": [
       "                                               path  \\\n",
       "0  ./Images\\n02085620-Chihuahua\\n02085620_10074.jpg   \n",
       "1  ./Images\\n02085620-Chihuahua\\n02085620_10131.jpg   \n",
       "2  ./Images\\n02085620-Chihuahua\\n02085620_10621.jpg   \n",
       "3   ./Images\\n02085620-Chihuahua\\n02085620_1073.jpg   \n",
       "4  ./Images\\n02085620-Chihuahua\\n02085620_10976.jpg   \n",
       "\n",
       "                                    file_name     labels  \n",
       "0  Images\\n02085620-Chihuahua\\n02085620_10074  Chihuahua  \n",
       "1  Images\\n02085620-Chihuahua\\n02085620_10131  Chihuahua  \n",
       "2  Images\\n02085620-Chihuahua\\n02085620_10621  Chihuahua  \n",
       "3   Images\\n02085620-Chihuahua\\n02085620_1073  Chihuahua  \n",
       "4  Images\\n02085620-Chihuahua\\n02085620_10976  Chihuahua  "
      ]
     },
     "execution_count": 32,
     "metadata": {},
     "output_type": "execute_result"
    }
   ],
   "source": [
    "join_table.head()"
   ]
  },
  {
   "cell_type": "code",
   "execution_count": null,
   "metadata": {},
   "outputs": [],
   "source": []
  }
 ],
 "metadata": {
  "kernelspec": {
   "display_name": "virtEnv",
   "language": "python",
   "name": "virtenv"
  },
  "language_info": {
   "codemirror_mode": {
    "name": "ipython",
    "version": 3
   },
   "file_extension": ".py",
   "mimetype": "text/x-python",
   "name": "python",
   "nbconvert_exporter": "python",
   "pygments_lexer": "ipython3",
   "version": "3.7.7"
  }
 },
 "nbformat": 4,
 "nbformat_minor": 4
}
